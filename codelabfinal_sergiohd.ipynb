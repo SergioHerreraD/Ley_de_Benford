{
 "cells": [
  {
   "cell_type": "markdown",
   "id": "48f72e79",
   "metadata": {},
   "source": [
    "# <p style=\"text-align:center;\">Ley de Benford para detección de fraudes</p>"
   ]
  },
  {
   "cell_type": "markdown",
   "id": "1c84c81b",
   "metadata": {},
   "source": [
    "Esta ley es también es conocida con el nombre de \"Ley del primer digito\" y fue descubierta en el año 1881 por el matemático [Simón Newcomb](https://es.wikipedia.org/wiki/Simon_Newcomb), quien observó que las primeras páginas de los logaritmos se encontraban mas usadas y maltratadas en comparación de las últimas páginas de los logartimos. Lo anterior le generó duda pues aparentemente las páginas no eran equiprobables, sino que por el contrario, parecía haber una tendencia evidente a las primeras páginas de acuerdo al orden, es decir, que la primer página es más probable que sea utilizada, después la segunda página era la más probable a ser utilizada y así hasta la novena página que es la menos frecuente. Lo anterior lo efectuó sin una evidencia, argumento o fórmula matemática."
   ]
  },
  {
   "cell_type": "markdown",
   "id": "d4859269",
   "metadata": {},
   "source": [
    "En 1938, [Frank Benford](https://es.wikipedia.org/wiki/Frank_Benford) observó el mismo evento en las tablas de logaritmos y realizó una prueba empírica con 20,229 números agrupados en 20 muestras. Con base en los resultados empíricos se publicó el resultado en la denominada \"Ley de los números anómalos\" para la probabilidad de que el primer digito sea \"d\"."
   ]
  },
  {
   "cell_type": "markdown",
   "id": "98dda3f9",
   "metadata": {},
   "source": [
    "## <p style=\"text-align:center;\">Fórmula</p>"
   ]
  },
  {
   "cell_type": "markdown",
   "id": "67caba24",
   "metadata": {},
   "source": [
    "Un conjunto de números cumple con la ley de Benford si para el primer digito de la parte decimal, llamemoslo d, se cumple lo siguiente:"
   ]
  },
  {
   "cell_type": "markdown",
   "id": "9fdf034e",
   "metadata": {},
   "source": [
    "$$p(X=d) = \\log_{10}\\left(1 + \\frac{1}{d}\\right) = log_{10}(d+1) - log_{10}(d)$$\n",
    "$$1 \\leq d \\leq 9$$\n",
    "\n",
    "\n",
    "\n"
   ]
  },
  {
   "cell_type": "markdown",
   "id": "844954d7",
   "metadata": {},
   "source": [
    "## <p style=\"text-align:center;\">Distribución</p>"
   ]
  },
  {
   "cell_type": "markdown",
   "id": "55340110",
   "metadata": {},
   "source": [
    "La distribución graficamente que sigue la ley de Benford es la siguiente:"
   ]
  },
  {
   "cell_type": "code",
   "execution_count": 32,
   "id": "c93d7321",
   "metadata": {},
   "outputs": [
    {
     "data": {
      "text/plain": [
       "<BarContainer object of 9 artists>"
      ]
     },
     "execution_count": 32,
     "metadata": {},
     "output_type": "execute_result"
    },
    {
     "data": {
      "image/png": "[encoded data removed]",
      "text/plain": [
       "<Figure size 640x480 with 1 Axes>"
      ]
     },
     "metadata": {},
     "output_type": "display_data"
    }
   ],
   "source": [
    "# Importar librerías\n",
    "import matplotlib.pyplot as plt\n",
    "\n",
    "# Generar lista de datos con valor de eje abscisa y ordenadas\n",
    "frecuencias_benford = [0.301, 0.176, 0.125, 0.097, 0.079, 0.067, 0.058, 0.051, 0.046]\n",
    "x = [1,2,3,4,5,6,7,8,9]\n",
    "\n",
    "fig, ax = plt.subplots() # Generar la gráfica\n",
    "plt.title('Figura 1. Distribución Benford') # Agregar un nombre a la gráfica\n",
    "plt.tight_layout() \n",
    "ax.bar(x = x, height = frecuencias_benford) #Centrar barras en el gráfico"
   ]
  },
  {
   "cell_type": "markdown",
   "id": "05b9f5b6",
   "metadata": {},
   "source": [
    "Los valores para cada dígito y su probabilidad de ocurrencia es la siguiente:"
   ]
  },
  {
   "cell_type": "markdown",
   "id": "8ed5589c",
   "metadata": {},
   "source": [
    "| Dígito | pBenford (%) |\n",
    "|--------|-------------|\n",
    "| 1      | 30.1        |\n",
    "| 2      | 17.6        |\n",
    "| 3      | 12.5        |\n",
    "| 4      | 9.7         |\n",
    "| 5      | 7.9         |\n",
    "| 6      | 6.7         |\n",
    "| 7      | 5.8         |\n",
    "| 8      | 5.1         |\n",
    "| 9      | 4.6         |\n",
    "<center>Figura 2. Valores distribución Benford</center>"
   ]
  },
  {
   "cell_type": "markdown",
   "id": "6531994d",
   "metadata": {},
   "source": [
    "## <p style=\"text-align:center;\">Código</p>"
   ]
  },
  {
   "cell_type": "markdown",
   "id": "8702d58e",
   "metadata": {},
   "source": [
    "El primer paso será importar las librerías que se utilizarán en el código."
   ]
  },
  {
   "cell_type": "code",
   "execution_count": 79,
   "id": "0b6544e8",
   "metadata": {},
   "outputs": [],
   "source": [
    "#importar librerias\n",
    "\n",
    "import random as rd\n",
    "import pandas as pd"
   ]
  },
  {
   "cell_type": "markdown",
   "id": "1c129b02",
   "metadata": {},
   "source": [
    "A continuación cree una función con la que se pueden generar números flotantes (reales) aleatorios, colocando parámetros a la función con el objetivo de hacerla configurable en aspectos como la cantidad de números requeridos y el rango de los valores entre los que se puede generar el número aleatorio."
   ]
  },
  {
   "cell_type": "code",
   "execution_count": 80,
   "id": "9c62be69",
   "metadata": {},
   "outputs": [],
   "source": [
    "def gen_flotantes(cantidad=10,rinf=1,rsup=100):\n",
    "    \n",
    "    datos = [] #Crear lista vacía\n",
    "    \n",
    "    for i in range(cantidad): #Bucle para creación de números aleatorios\n",
    "        datos.append(round(rd.uniform(rinf,rsup),2)) # Creación de números reales (flotantes) aleatorios \n",
    "    return datos"
   ]
  },
  {
   "cell_type": "markdown",
   "id": "b27da80e",
   "metadata": {},
   "source": [
    "Se define una función a la que se le carga una lista de datos y se recuperará un valor TRUE o FALSE, dependiendo de si se ajusta a una distribución Benford o no."
   ]
  },
  {
   "cell_type": "code",
   "execution_count": 41,
   "id": "ea7454b0",
   "metadata": {},
   "outputs": [],
   "source": [
    "def es_distr_benford(datos):\n",
    "    \n",
    "    datos_limpios = [] #Crear lista vacía\n",
    "    frecuencias = {} #Crear diccionario vacío\n",
    "    frecuencias_benford = [0.301, 0.176, 0.125, 0.097, 0.079, 0.067, 0.058, 0.051, 0.046]\n",
    "\n",
    "    \n",
    "    for i in range(len(datos)): #Bucle para recorrer la lista completa extrayendo el primer dígito de cada número\n",
    "        datos_limpios.append(int(str(datos[i])[0])) #Extracción del primer dígito de cada número\n",
    "   \n",
    "    \n",
    "    # Iterar sobre la lista de datos y contar las ocurrencias\n",
    "    for numero in datos_limpios:\n",
    "        if numero in frecuencias:\n",
    "            frecuencias[numero] += 1\n",
    "        else:\n",
    "            frecuencias[numero] = 1 \n",
    "\n",
    "    df = pd.DataFrame(frecuencias.items())\n",
    "\n",
    "    df[\"Número\"] = df[0]\n",
    "    df[\"Frecuencia\"] = df[1]\n",
    "    df[\"Porcentaje frecuencia\"] = df[1]/len(datos)*100\n",
    "    df = df.drop(columns=[0])\n",
    "    df = df.drop(columns=[1])\n",
    "    df = df.sort_values(by='Número')\n",
    "    \n",
    "    \n",
    "    diferencias = [abs(frec_real - frec_benford) for frec_real, frec_benford in zip(df['Porcentaje frecuencia'], frecuencias_benford)]\n",
    "\n",
    "    if all(dif <= 0.05 for dif in diferencias):\n",
    "        return True\n",
    "    else:\n",
    "        return False"
   ]
  },
  {
   "cell_type": "markdown",
   "id": "e24011c9",
   "metadata": {},
   "source": [
    "A continuación un ejemplo de la utilización de la función."
   ]
  },
  {
   "cell_type": "code",
   "execution_count": 42,
   "id": "878a2086",
   "metadata": {},
   "outputs": [
    {
     "data": {
      "text/plain": [
       "False"
      ]
     },
     "execution_count": 42,
     "metadata": {},
     "output_type": "execute_result"
    }
   ],
   "source": [
    "es_distr_benford(gen_flotantes(1000,1,100))"
   ]
  },
  {
   "cell_type": "markdown",
   "id": "483fbfb5",
   "metadata": {},
   "source": [
    "<div style=\"background-color: #FDFD96; padding: 10px;\">\n",
    "\n",
    "Se puede observar que el resultado es FALSO, lo cual tiene mucho sentido debido a que estamos utilizando una función existente en la librería random llamada UNIFORM, la cual devuelve datos flotantes (reales) de una distribución uniforme, por lo que es de esperarse que no se asemeje a la distribución de Benford."
   ]
  },
  {
   "cell_type": "markdown",
   "id": "82931888",
   "metadata": {},
   "source": [
    "Se define una función a la que se le carga una lista de datos y se recuperará un mensaje para el usuario donde se indica si los datos ingresados se ajustan a una distribución Benford o no."
   ]
  },
  {
   "cell_type": "code",
   "execution_count": 43,
   "id": "0815cb4b",
   "metadata": {},
   "outputs": [],
   "source": [
    "def es_distr_benford2(datos):\n",
    "    \n",
    "    datos_limpios = [] #Crear lista vacía\n",
    "    frecuencias = {} #Crear diccionario vacío\n",
    "    frecuencias_benford = [0.301, 0.176, 0.125, 0.097, 0.079, 0.067, 0.058, 0.051, 0.046]\n",
    "\n",
    "    \n",
    "\n",
    "    for i in range(len(datos)): #Bucle para recorrer la lista completa extrayendo el primer dígito de cada número\n",
    "        datos_limpios.append(int(str(datos[i])[0])) #Extracción del primer dígito de cada número\n",
    "        \n",
    "    \n",
    "    \n",
    "    \n",
    "    # Iterar sobre la lista de datos y contar las ocurrencias\n",
    "    for numero in datos_limpios:\n",
    "        if numero in frecuencias:\n",
    "            frecuencias[numero] += 1\n",
    "        else:\n",
    "            frecuencias[numero] = 1 \n",
    "\n",
    "    df = pd.DataFrame(frecuencias.items())\n",
    "\n",
    "    df[\"Número\"] = df[0]\n",
    "    df[\"Frecuencia\"] = df[1]\n",
    "    df[\"Porcentaje frecuencia\"] = df[1]/len(datos)*100\n",
    "    df = df.drop(columns=[0])\n",
    "    df = df.drop(columns=[1])\n",
    "    df = df.sort_values(by='Número')\n",
    "    \n",
    "    \n",
    "    diferencias = [abs(frec_real - frec_benford) for frec_real, frec_benford in zip(df['Porcentaje frecuencia'], frecuencias_benford)]\n",
    "\n",
    "    if all(dif <= 0.05 for dif in diferencias):\n",
    "        print(\"El conjunto de datos cumple con la distribución de Benford.\")\n",
    "\n",
    "    else:\n",
    "        print(\"El conjunto de datos no cumple con la distribución de Benford.\")    "
   ]
  },
  {
   "cell_type": "markdown",
   "id": "8b89ee8e",
   "metadata": {},
   "source": [
    "A continuación un ejemplo de la utilización de esta segunda función."
   ]
  },
  {
   "cell_type": "code",
   "execution_count": 44,
   "id": "cd190993",
   "metadata": {},
   "outputs": [
    {
     "name": "stdout",
     "output_type": "stream",
     "text": [
      "El conjunto de datos no cumple con la distribución de Benford.\n"
     ]
    }
   ],
   "source": [
    "es_distr_benford2(gen_flotantes(1000,1,100))"
   ]
  },
  {
   "cell_type": "markdown",
   "id": "a092cfa0",
   "metadata": {},
   "source": [
    "<div style=\"background-color: #FDFD96; padding: 10px;\">\n",
    "\n",
    "Nuevamente se puede observar que el resultado es que los datos no cumplen con la distribución de Benford, lo cual tiene mucho sentido debido a que estamos utilizando una función existente en la librería random llamada UNIFORM, la cual devuelve datos flotantes (reales) de una distribución uniforme, por lo que es de esperarse que no se asemeje a la distribución de Benford."
   ]
  },
  {
   "cell_type": "markdown",
   "id": "9b6d3e91",
   "metadata": {},
   "source": [
    "Se define una función a la que se le carga una lista de datos y se recuperará un data frame con la distribución de los datos ingresados y los correspondientes a la distribución de Benford."
   ]
  },
  {
   "cell_type": "code",
   "execution_count": 89,
   "id": "a27ddff1",
   "metadata": {},
   "outputs": [],
   "source": [
    "def distr_benford(datos):\n",
    "    \n",
    "    datos_limpios = [] #Crear lista vacía\n",
    "    frecuencias = {} #Crear diccionario vacío\n",
    "    frecuencias_benford = [0.301, 0.176, 0.125, 0.097, 0.079, 0.067, 0.058, 0.051, 0.046]\n",
    "\n",
    "\n",
    "    for i in range(len(datos)): #Bucle para recorrer la lista completa extrayendo el primer dígito de cada número\n",
    "        datos_limpios.append(int(str(datos[i])[0])) #Extracción del primer dígito de cada número\n",
    "        \n",
    "    # Iterar sobre la lista de datos y contar las ocurrencias\n",
    "    for numero in datos_limpios:\n",
    "        if numero in frecuencias:\n",
    "            frecuencias[numero] += 1\n",
    "        else:\n",
    "            frecuencias[numero] = 1 \n",
    "\n",
    "    df = pd.DataFrame(frecuencias.items())\n",
    "\n",
    "    df[\"Número\"] = df[0]\n",
    "    df[\"Frecuencia\"] = df[1] #Cálculo de la frecuencia relativa\n",
    "    df[\"Porcentaje frecuencia\"] = df[1]/len(datos)  #Cálculo de porcentaje de frecuencia relativa\n",
    "    df = df.drop(columns=[0]) #Eliminar la columan\n",
    "    df = df.drop(columns=[1]) #Eliminar la columan\n",
    "    df = df.sort_values(by='Número') #Ordenar por la columna Número\n",
    "    df = df.reset_index(drop=True) #Re ordenamiento de los índices para que respeten el órden establecido por la columna Número    \n",
    "\n",
    "    # Agregar la lista como una nueva columna\n",
    "    df['Frecuencias Benford'] = frecuencias_benford\n",
    "    \n",
    "    df.to_excel('Frecuencias_datos.xlsx', index=False)\n",
    "\n",
    "    # Se abre una conexión con la ruta en donde está almacenado el notebook sobre el que se está trabajando\n",
    "    mi_io = open('Frecuencias_datos.txt', 'w', encoding='utf-8')\n",
    "    \n",
    "    for i, r in df.iterrows(): #Se inicia un ciclo para obtener un índice del data frame junto con los datos del data frame.\n",
    "        if i == 8:\n",
    "            mi_io.write(f'El número {r[\"Número\"]} tiene una frecuencia relativa {int(r[\"Frecuencia\"])} que corresponde al {round(r[\"Porcentaje frecuencia\"],3)} en comparación de Benford {r[\"Frecuencias Benford\"]}.')\n",
    "        else:\n",
    "            mi_io.write(f'El número {r[\"Número\"]} tiene una frecuencia relativa {int(r[\"Frecuencia\"])} que corresponde al {round(r[\"Porcentaje frecuencia\"],3)} en comparación de Benford {r[\"Frecuencias Benford\"]}.\\n')\n",
    "    \n",
    "    mi_io.close()\n",
    "    \n",
    "    return(df)"
   ]
  },
  {
   "cell_type": "markdown",
   "id": "7761e821",
   "metadata": {},
   "source": [
    "A continuación un ejemplo de la utilización de esta tercera función."
   ]
  },
  {
   "cell_type": "code",
   "execution_count": 90,
   "id": "319a104a",
   "metadata": {},
   "outputs": [
    {
     "data": {
      "text/html": [
       "<div>\n",
       "<style scoped>\n",
       "    .dataframe tbody tr th:only-of-type {\n",
       "        vertical-align: middle;\n",
       "    }\n",
       "\n",
       "    .dataframe tbody tr th {\n",
       "        vertical-align: top;\n",
       "    }\n",
       "\n",
       "    .dataframe thead th {\n",
       "        text-align: right;\n",
       "    }\n",
       "</style>\n",
       "<table border=\"1\" class=\"dataframe\">\n",
       "  <thead>\n",
       "    <tr style=\"text-align: right;\">\n",
       "      <th></th>\n",
       "      <th>Número</th>\n",
       "      <th>Frecuencia</th>\n",
       "      <th>Porcentaje frecuencia</th>\n",
       "      <th>Frecuencias Benford</th>\n",
       "    </tr>\n",
       "  </thead>\n",
       "  <tbody>\n",
       "    <tr>\n",
       "      <th>0</th>\n",
       "      <td>1</td>\n",
       "      <td>97</td>\n",
       "      <td>0.097</td>\n",
       "      <td>0.301</td>\n",
       "    </tr>\n",
       "    <tr>\n",
       "      <th>1</th>\n",
       "      <td>2</td>\n",
       "      <td>124</td>\n",
       "      <td>0.124</td>\n",
       "      <td>0.176</td>\n",
       "    </tr>\n",
       "    <tr>\n",
       "      <th>2</th>\n",
       "      <td>3</td>\n",
       "      <td>114</td>\n",
       "      <td>0.114</td>\n",
       "      <td>0.125</td>\n",
       "    </tr>\n",
       "    <tr>\n",
       "      <th>3</th>\n",
       "      <td>4</td>\n",
       "      <td>123</td>\n",
       "      <td>0.123</td>\n",
       "      <td>0.097</td>\n",
       "    </tr>\n",
       "    <tr>\n",
       "      <th>4</th>\n",
       "      <td>5</td>\n",
       "      <td>108</td>\n",
       "      <td>0.108</td>\n",
       "      <td>0.079</td>\n",
       "    </tr>\n",
       "    <tr>\n",
       "      <th>5</th>\n",
       "      <td>6</td>\n",
       "      <td>101</td>\n",
       "      <td>0.101</td>\n",
       "      <td>0.067</td>\n",
       "    </tr>\n",
       "    <tr>\n",
       "      <th>6</th>\n",
       "      <td>7</td>\n",
       "      <td>105</td>\n",
       "      <td>0.105</td>\n",
       "      <td>0.058</td>\n",
       "    </tr>\n",
       "    <tr>\n",
       "      <th>7</th>\n",
       "      <td>8</td>\n",
       "      <td>110</td>\n",
       "      <td>0.110</td>\n",
       "      <td>0.051</td>\n",
       "    </tr>\n",
       "    <tr>\n",
       "      <th>8</th>\n",
       "      <td>9</td>\n",
       "      <td>118</td>\n",
       "      <td>0.118</td>\n",
       "      <td>0.046</td>\n",
       "    </tr>\n",
       "  </tbody>\n",
       "</table>\n",
       "</div>"
      ],
      "text/plain": [
       "   Número  Frecuencia  Porcentaje frecuencia  Frecuencias Benford\n",
       "0       1          97                  0.097                0.301\n",
       "1       2         124                  0.124                0.176\n",
       "2       3         114                  0.114                0.125\n",
       "3       4         123                  0.123                0.097\n",
       "4       5         108                  0.108                0.079\n",
       "5       6         101                  0.101                0.067\n",
       "6       7         105                  0.105                0.058\n",
       "7       8         110                  0.110                0.051\n",
       "8       9         118                  0.118                0.046"
      ]
     },
     "execution_count": 90,
     "metadata": {},
     "output_type": "execute_result"
    }
   ],
   "source": [
    "distr_benford(gen_flotantes(1000,1,100))"
   ]
  },
  {
   "cell_type": "markdown",
   "id": "8eee4389",
   "metadata": {},
   "source": [
    "## <p style=\"text-align:center;\">Conclusiones</p>"
   ]
  },
  {
   "cell_type": "markdown",
   "id": "21049829",
   "metadata": {},
   "source": [
    "A lo largo del presente codelab me percaté que mi nivel de programación es mejor de lo que yo tenía considerado. Para ser sincero la elaboración de las funciones las realicé de forma intuitiva y me fue fácil elaborarlas a excepción de la comparación de los porcentajes de la frecuencia relativa, para lo cual si utilicé el recurso de CHATGPT, se comparte el prompt y la respuesta recibida.\n",
    "\n",
    "En un principio estaba confundido sobre lo que podría realizar en la parte del código y decidí hacer un código que compare un conjunto de datos y te regrese verdadero o falso, indicando si el conjunto de datos se comportan de acuerdo a la Ley de Benfor. Esto fue debido a que leí un ejemplo en donde utilizaban la ley de Benford en los bancos para analizar en qué conjunto de transacciones (separadas por estado y día) se debía realizar una auditoría.\n",
    "\n",
    "Además de la función antes mencionada, considero que también sería importante una función que en lugar de regresar un simple verdadero o falso, le muestre al usuario un mensaje confirmando el hallazgo de la ley de Benford a los datos ingresados, además de otra función donde muestre los cálculos efectuados en al función, como son un Data Frame con las frecuencias relativas calculadas en comparación con las esperadas por la ley de Benford.\n",
    "\n",
    "El codelab y en general la clase ha sido de las que más me ha gustado por la práctica que hemos tenido. Además de que me gusta que se haya subido el nivel de la especialidad. Cautivó totalmente mi atención y me quedo muy intrigado al respecto de muchos temas, de los cuales investigaré más por mi cuenta en caso de que no se vea en materias futuras.\n",
    "\n",
    "La conclusión del tema de ley de Benford es que es una distribución que puede servir como un primer parámetro para identificar posibles fraudes; sin embargo, no nos podemos quedar con este como único método para la identificación pues existen algúnos \"huecos\" que no considera está ley, por ejemplo las transacciones que sean de entre $[0.00,0.99]$.\n",
    "\n",
    "Investigué un poco más y los bancos aplican, de forma adicional, otro tipo de análisis como pueden ser:\n",
    "\n",
    "* Análisis de Patrones de Transacciones\n",
    "* Análisis de Comportamiento de Usuario\n",
    "* Análisis de Transacciones de Alto Riesgo\n",
    "\n",
    "Entre otros.\n"
   ]
  },
  {
   "cell_type": "markdown",
   "id": "f75762a9",
   "metadata": {},
   "source": [
    "# <p style=\"text-align:center;\">Anexos</p>"
   ]
  },
  {
   "cell_type": "markdown",
   "id": "05011979",
   "metadata": {},
   "source": [
    "## <p style=\"text-align:center;\">Fuente de información</p>\n",
    "\n",
    "**Simon Newcomb**_,para más información dar clic_ [aquí.](https://es.wikipedia.org/wiki/Simon_Newcomb)\n",
    "\n",
    "**Ley de Benford**_, para más información dar clic_ [aquí.](https://es.wikipedia.org/wiki/Ley_de_Benford)\n",
    "\n",
    "**Frank Benford**_, Biografía. Para más información dar clic_ [aquí.](https://es.wikipedia.org/wiki/Frank_Benford)\n",
    "\n",
    "\n",
    "\n",
    "\n",
    "\n",
    "## <p style=\"text-align:center;\">Fuente de figuras</p>\n",
    "\n",
    "\n",
    "Figura 1. Autoría propia, Histograma de distribución Benford.\n",
    "\n",
    "Figura 2. Autoría propia, Valores de la distribución Benford.\n",
    "\n",
    "\n",
    "\n"
   ]
  },
  {
   "cell_type": "markdown",
   "id": "8a6546d3",
   "metadata": {},
   "source": [
    "## <p style=\"text-align:center;\">Consultas realizadas en Chat GPT</p>"
   ]
  },
  {
   "cell_type": "markdown",
   "id": "581d8f09",
   "metadata": {},
   "source": [
    "<div style=\"background-color: #c1ffc1; padding: 10px;\">\n",
    "    <p style=\"color: black; font-weight: bold;\">Prompt: Qué es la ley de Benford para detectar fraudes?</p>\n",
    "    \n",
    "\n",
    "<p>La Ley de Benford, también conocida como la Ley de los Números Anómalos de Benford, es un principio estadístico que sugiere que en muchas colecciones de datos numéricos del mundo real, los dígitos iniciales tienden a seguir una distribución no uniforme. Esta ley fue propuesta por el físico estadounidense Frank Benford en 1938 y ha encontrado aplicaciones en diversas áreas, incluyendo la detección de fraudes.\n",
    "\n",
    "La Ley de Benford establece que, en conjuntos de datos que abarcan varias órdenes de magnitud, el dígito \"1\" tiende a ser el dígito inicial más común, seguido de \"2\", luego \"3\", y así sucesivamente, con \"9\" siendo el dígito inicial menos común. Esto es contrario a lo que podría esperarse intuitivamente, donde se podría pensar que cada dígito inicial tendría la misma probabilidad del 10%.\n",
    "\n",
    "La aplicación de la Ley de Benford en la detección de fraudes se basa en el hecho de que, cuando se falsifican o manipulan números en un conjunto de datos, es más probable que los dígitos sean distribuidos de manera no natural. Si los datos no siguen la distribución predicha por la ley, esto podría indicar que los números han sido alterados o manipulados.\n",
    "\n",
    "En el contexto financiero, por ejemplo, la Ley de Benford se ha utilizado para analizar informes contables y estados financieros. Si los números en los informes no siguen la distribución esperada según la ley, podría ser una señal de que los datos han sido manipulados para ocultar fraudes contables u otras irregularidades.\n",
    "\n",
    "Sin embargo, es importante destacar que la Ley de Benford no es una herramienta infalible para detectar fraudes. Puede haber casos legítimos en los que los datos no sigan esta distribución debido a diversas razones. Es una técnica más que puede utilizarse en conjunto con otras medidas y análisis para evaluar la integridad de los datos y detectar posibles irregularidades.</p>\n",
    "</div>\n"
   ]
  },
  {
   "cell_type": "markdown",
   "id": "7517c4a1",
   "metadata": {},
   "source": [
    "<div style=\"background-color: #c1ffc1; padding: 10px;\">\n",
    "    <p style=\"color: black; font-weight: bold;\">Prompt: Cuál es un ejemplo de aplicación de la ley Benford para detectar fraude?</p>\n",
    "    \n",
    "\n",
    "<p>Un ejemplo concreto de aplicación de la Ley de Benford para detectar fraude está en el análisis de los números de facturación en un conjunto de datos financiero. Imagina que estás examinando los números de facturación mensual de una empresa y quieres verificar si hay indicios de manipulación o fraude en esos números. Aquí hay un ejemplo simplificado de cómo podrías aplicar la Ley de Benford:\n",
    "\n",
    "Supongamos que tienes los siguientes números de facturación mensual para los últimos doce meses:\n",
    "\n",
    "$$2398, 3152, 4189, 5221, 6125, 7443, 8912, 9763, 10384, 11562, 12876, 13897$$ <br>\n",
    "\n",
    "Primero, observas los dígitos iniciales de cada número y cuentas cuántas veces aparece cada dígito del 1 al 9 como el primer dígito:\n",
    "\n",
    "    \n",
    "    \n",
    "Dígito 1: 6 veces<br>\n",
    "Dígito 2: 3 veces<br>\n",
    "Dígito 3: 1 vez<br>\n",
    "Dígito 4: 1 vez<br>\n",
    "Dígito 5: 1 vez<br>\n",
    "Dígito 6: 0 veces<br>\n",
    "Dígito 7: 0 veces<br>\n",
    "Dígito 8: 1 vez<br>\n",
    "Dígito 9: 0 veces<br>\n",
    "    \n",
    "    \n",
    "Luego, comparas estas frecuencias con las predicciones de la Ley de Benford, que son aproximadamente las siguientes:\n",
    "\n",
    "Dígito 1: 6 veces\n",
    "Dígito 2: 3 veces\n",
    "Dígito 3: 1 vez\n",
    "Dígito 4: 1 vez\n",
    "Dígito 5: 1 vez\n",
    "Dígito 6: 0 veces\n",
    "Dígito 7: 0 veces\n",
    "Dígito 8: 1 vez\n",
    "Dígito 9: 0 veces\n",
    "\n",
    "    \n",
    "    \n",
    "En este caso, puedes observar que los dígitos 1 y 2 están más representados de lo que se esperaría según la Ley de Benford, mientras que los dígitos 3, 4 y 5 están subrepresentados. Esto podría indicar una posible manipulación de los números, ya que los dígitos más bajos (1 y 2) son más comunes de lo esperado y los dígitos más altos (3, 4 y 5) son menos comunes.\n",
    "\n",
    "Sin embargo, es importante recordar que esta discrepancia no es suficiente para concluir automáticamente que hay fraude. Puede haber explicaciones legítimas para desviaciones de la distribución de Benford, como patrones naturales en ciertos tipos de datos. La Ley de Benford es solo una herramienta que puede generar sospechas y motivar investigaciones adicionales para confirmar o descartar cualquier irregularidad.</p>\n",
    "</div>\n"
   ]
  },
  {
   "cell_type": "markdown",
   "id": "241005c0",
   "metadata": {},
   "source": [
    "<div style=\"background-color: #c1ffc1; padding: 10px;\">\n",
    "    <p style=\"color: black; font-weight: bold;\">Prompt: No entendí ese ejemplo, me puedes dar otro?</p>\n",
    "    \n",
    "\n",
    "<p>Por supuesto, aquí tienes otro ejemplo más simple de cómo se podría aplicar la Ley de Benford para detectar fraude en un conjunto de datos:\n",
    "\n",
    "Imagina que estás examinando los montos de gastos reportados en los informes de viáticos de los empleados de una empresa. Tienes una lista de los montos de gastos para un período de tiempo y quieres ver si hay alguna anomalía que podría indicar fraude.\n",
    "\n",
    "Estos son los montos de gastos reportados:\n",
    "\n",
    "$$37.50, 68.20, 125.75, 21.30, 92.10, 163.40, 215.60, 14.80, 72.90, 196.25$$ <br>\n",
    "\n",
    "Primero, extraes los primeros dígitos de cada monto:\n",
    "\n",
    "$$3, 6, 1, 2, 9, 1, 2, 1, 7, 1$$\n",
    "\n",
    "    \n",
    "Ahora cuentas cuántas veces aparece cada dígito del 1 al 9 como el primer dígito:\n",
    "\n",
    "Dígito 1: 4 veces<br>\n",
    "Dígito 2: 2 veces<br>\n",
    "Dígito 3: 1 vez<br>\n",
    "Dígito 4: 0 veces<br>\n",
    "Dígito 5: 0 veces<br>\n",
    "Dígito 6: 1 vez<br>\n",
    "Dígito 7: 1 vez<br>\n",
    "Dígito 8: 0 veces<br>\n",
    "Dígito 9: 1 vez<br>\n",
    "\n",
    "    \n",
    "Luego, comparas estas frecuencias con las predicciones de la Ley de Benford:\n",
    "\n",
    "Dígito 1: 30.1%<br>\n",
    "Dígito 2: 17.6%<br>\n",
    "Dígito 3: 12.5%<br>\n",
    "Dígito 4: 9.7%<br>\n",
    "Dígito 5: 7.9%<br>\n",
    "Dígito 6: 6.7%<br>\n",
    "Dígito 7: 5.8%<br>\n",
    "Dígito 8: 5.1%<br>\n",
    "Dígito 9: 4.6%<br>\n",
    "    \n",
    "    \n",
    "En este caso, puedes notar que el dígito 1 aparece más veces de lo esperado según la Ley de Benford, mientras que otros dígitos son menos comunes. Esto podría levantar sospechas de que los montos de gastos han sido manipulados, ya que los dígitos más bajos (como el 1) son más frecuentes de lo que se esperaría.\n",
    "\n",
    "Nuevamente, es importante señalar que la Ley de Benford no es una prueba definitiva de fraude, pero puede servir como un indicador inicial para investigar más a fondo si hay irregularidades en los datos.</p>\n",
    "</div>\n"
   ]
  },
  {
   "cell_type": "markdown",
   "id": "ff6eb615",
   "metadata": {},
   "source": [
    "<div style=\"background-color: #c1ffc1; padding: 10px;\">\n",
    "    <p style=\"color: black; font-weight: bold;\">Prompt: Dame un ejemplo con 1000  datos que si cumplan con la ley de benford</p>\n",
    "    \n",
    "\n",
    "<p>Aquí tienes un ejemplo de 1000 datos generados aleatoriamente que siguen la distribución de la Ley de Benford:\n",
    "\n",
    "    \n",
    "<blockquote>    \n",
    "import numpy as np <br><br>\n",
    "\n",
    "def generate_benford_data(n): <br>\n",
    "    data = [] <br>\n",
    "    for _ in range(n):<br>\n",
    "        digit = int(str(np.random.choice(range(1, 10))) + ''.join(np.random.choice(list(\"0123456789\"), size=np.random.choice(range(1, 10)))))<br>\n",
    "        data.append(digit)<br>\n",
    "    return data<br>\n",
    "\n",
    "benford_data = generate_benford_data(1000)<br><br>\n",
    "</blockquote>\n",
    "    \n",
    "    \n",
    "    \n",
    "benford_data = generate_benford_data(1000)\n",
    "En este ejemplo, la función generate_benford_data genera 1000 números siguiendo la distribución de la Ley de Benford. Cada número se construye tomando un dígito inicial aleatorio entre 1 y 9, seguido de un conjunto aleatorio de dígitos adicionales. Esto simula la tendencia de los números en los datos reales de seguir la Ley de Benford.\n",
    "\n",
    "Recuerda que la Ley de Benford es una observación empírica y no siempre se cumplirá en todos los conjuntos de datos, pero este ejemplo debería mostrar una distribución que sigue la tendencia esperada.</p>\n",
    "</div>\n"
   ]
  },
  {
   "cell_type": "markdown",
   "id": "60004dc9",
   "metadata": {},
   "source": [
    "<div style=\"background-color: #c1ffc1; padding: 10px;\">\n",
    "    <p style=\"color: black; font-weight: bold;\">Prompt: Tengo un data frame donde viene una columna con el número, otra columna con la frecuencia relativa y otra columna con el porcentaje de frecuencia relativa. Cómo puedo comparar este data Frame para validar si cumple con la distribución de Benford?</p>\n",
    "    \n",
    "\n",
    "<p>La distribución de Benford se refiere a la ocurrencia esperada de los dígitos iniciales en conjuntos de datos que siguen un cierto patrón, como números en una amplia variedad de contextos del mundo real. Para verificar si un DataFrame cumple con la distribución de Benford, puedes comparar las frecuencias relativas de los dígitos iniciales (del 1 al 9) en tu DataFrame con las frecuencias esperadas según la distribución de Benford.\n",
    "\n",
    "Aquí hay un enfoque general sobre cómo hacer esto:\n",
    "\n",
    "Calcula las frecuencias esperadas de los dígitos iniciales según la distribución de Benford. Estas frecuencias se conocen y son aproximadamente: 30.1%, 17.6%, 12.5%, 9.7%, 7.9%, 6.7%, 5.8%, 5.1% y 4.6%.\n",
    "Para cada dígito (del 1 al 9), compara la frecuencia relativa en tu DataFrame con la frecuencia esperada de Benford. Puedes calcular la diferencia absoluta o relativa para cada dígito.\n",
    "Si las diferencias entre las frecuencias reales y esperadas para cada dígito son pequeñas y no sistemáticas, el DataFrame puede cumplir con la distribución de Benford. Si las diferencias son significativas y sistemáticas, podría ser indicativo de que los datos no siguen la distribución de Benford.\n",
    "Aquí tienes un ejemplo básico de cómo podrías realizar esta comparación:\n",
    "\n",
    "\n",
    "    \n",
    "import pandas as pd\n",
    "\n",
    "#Supongamos que tienes un DataFrame llamado df con las columnas \"Número\", \"Frecuencia Relativa\" y \"Porcentaje Frecuencia Relativa\"\n",
    "#...\n",
    "\n",
    "#Frecuencias esperadas según la distribución de Benford\n",
    "frecuencias_benford = [0.301, 0.176, 0.125, 0.097, 0.079, 0.067, 0.058, 0.051, 0.046]\n",
    "\n",
    "#Calcula las diferencias entre las frecuencias reales y esperadas\n",
    "diferencias = [abs(frec_real - frec_benford) for frec_real, frec_benford in zip(df['Frecuencia Relativa'], frecuencias_benford)]\n",
    "\n",
    "#Verifica si las diferencias son pequeñas y no sistemáticas\n",
    "if all(dif <= 0.05 for dif in diferencias):\n",
    "    print(\"El DataFrame cumple con la distribución de Benford.\")\n",
    "else:\n",
    "    print(\"El DataFrame no cumple con la distribución de Benford.\")\n",
    "\n",
    "    \n",
    "    \n",
    "    \n",
    "    \n",
    "    \n",
    "    \n",
    "    \n",
    "    \n",
    "    \n",
    "    \n",
    "    \n",
    "    \n",
    "    \n",
    "    \n",
    "Este es solo un ejemplo básico y los umbrales, métodos de comparación y criterios pueden variar según el contexto de tus datos y el nivel de precisión deseado. Recuerda que las desviaciones de la distribución de Benford pueden ser indicativas de patrones específicos en tus datos, pero no necesariamente prueban fraudes o irregularidades.</p>\n",
    "</div>\n"
   ]
  },
  {
   "cell_type": "markdown",
   "id": "aeb37af4",
   "metadata": {},
   "source": [
    "## <p style=\"text-align:center;\">Comentarios finales</p>"
   ]
  },
  {
   "cell_type": "markdown",
   "id": "3f6e5a1d",
   "metadata": {},
   "source": [
    "Se había utilizado una imágen para representar gráficamente la distribución de Benford; sin embargo, a solicitud del calificador se agrega código para generar la gráfica correspondiente en sustitución."
   ]
  },
  {
   "cell_type": "markdown",
   "id": "cb33e29a",
   "metadata": {},
   "source": [
    "![](https://upload.wikimedia.org/wikipedia/commons/thumb/4/46/Rozklad_benforda.svg/440px-Rozklad_benforda.svg.png)\n",
    "<center>Figura 1. Distribución Benford</center>\n",
    "\n",
    "Figura 1. Wikipedia, Distribución Benford. Para más información dar clic_ [aquí.](https://upload.wikimedia.org/wikipedia/commons/thumb/4/46/Rozklad_benforda.svg/440px-Rozklad_benforda.svg.png)"
   ]
  }
 ],
 "metadata": {
  "kernelspec": {
   "display_name": "Python 3 (ipykernel)",
   "language": "python",
   "name": "python3"
  },
  "language_info": {
   "codemirror_mode": {
    "name": "ipython",
    "version": 3
   },
   "file_extension": ".py",
   "mimetype": "text/x-python",
   "name": "python",
   "nbconvert_exporter": "python",
   "pygments_lexer": "ipython3",
   "version": "3.10.9"
  }
 },
 "nbformat": 4,
 "nbformat_minor": 5
}
